{
 "cells": [
  {
   "cell_type": "markdown",
   "id": "18f8d2ca-4403-40ad-a11d-f70f9e263a12",
   "metadata": {},
   "source": [
    "# Measuring inductance with signal generator and Oscilloscope"
   ]
  },
  {
   "cell_type": "code",
   "execution_count": 1,
   "id": "a34012c8-860e-4464-b84a-d704b13b626f",
   "metadata": {},
   "outputs": [],
   "source": [
    "import pyvisa\n",
    "import time\n",
    "import math"
   ]
  },
  {
   "cell_type": "code",
   "execution_count": 2,
   "id": "6c356ed4-4506-4d13-a512-d8f183532747",
   "metadata": {},
   "outputs": [],
   "source": [
    "Freq = 1000\n",
    "step = 500"
   ]
  },
  {
   "cell_type": "code",
   "execution_count": 3,
   "id": "67ca2064-ba7e-4ab0-9d0f-538e0c3b0186",
   "metadata": {},
   "outputs": [],
   "source": [
    "rm = pyvisa.ResourceManager()"
   ]
  },
  {
   "cell_type": "code",
   "execution_count": 4,
   "id": "b3bc3ffe-386f-4374-ad9e-c3b66217ae3c",
   "metadata": {},
   "outputs": [
    {
     "name": "stdout",
     "output_type": "stream",
     "text": [
      "('USB0::0x1AB1::0x04CE::DS1ZA222706984::INSTR', 'USB0::0x1AB1::0x0642::DG1ZA000000000::INSTR', 'USB0::0x0483::0x7540::AMM2524010088::INSTR', 'ASRL4::INSTR', 'ASRL6::INSTR', 'ASRL11::INSTR', 'ASRL13::INSTR', 'ASRL14::INSTR')\n"
     ]
    }
   ],
   "source": [
    "print(rm.list_resources())"
   ]
  },
  {
   "cell_type": "code",
   "execution_count": 5,
   "id": "d5686b0e-0751-4459-b0a5-4868958aced7",
   "metadata": {},
   "outputs": [],
   "source": [
    "ut8805 = rm.open_resource('USB0::0x0483::0x7540::AMM2524010088::INSTR')\n",
    "dg1022 = rm.open_resource('USB0::0x1AB1::0x0642::DG1ZA000000000::INSTR')\n",
    "ds1054 = rm.open_resource('USB0::0x1AB1::0x04CE::DS1ZA222706984::INSTR')"
   ]
  },
  {
   "cell_type": "markdown",
   "id": "b36b9af9-1adf-43e8-8a83-862d1d7ad359",
   "metadata": {},
   "source": [
    "## Connect a 180 Ohm resistor to the multimeter"
   ]
  },
  {
   "cell_type": "code",
   "execution_count": null,
   "id": "856e0004-f5fb-4ef3-92f5-dea8203a5c0f",
   "metadata": {},
   "outputs": [
    {
     "name": "stdout",
     "output_type": "stream",
     "text": [
      "177.819427\n"
     ]
    }
   ],
   "source": [
    "input('Press enter to continue....')\n",
    "ut8805.write('CONF:RES')\n",
    "resistance = float(ut8805.query('MEAS:RES?'))\n",
    "print (resistance)"
   ]
  },
  {
   "cell_type": "markdown",
   "id": "c3884b51-9c63-43d7-9676-c5e1cb123598",
   "metadata": {},
   "source": [
    "#### Setting signal generator output to 1 Khz sine, 3 v p-p"
   ]
  },
  {
   "cell_type": "code",
   "execution_count": 7,
   "id": "51ef2cd5-66f1-47f9-b4c8-9c9f9bad4feb",
   "metadata": {
    "scrolled": true
   },
   "outputs": [
    {
     "data": {
      "text/plain": [
       "11"
      ]
     },
     "execution_count": 7,
     "metadata": {},
     "output_type": "execute_result"
    }
   ],
   "source": [
    "dg1022.write(':SOUR1:APPL:SIN '+ str(Freq) +',3,0')\n",
    "dg1022.write(':OUTP1 ON')"
   ]
  },
  {
   "cell_type": "markdown",
   "id": "d99e9405-3719-40e1-9623-9e22d29fa0ae",
   "metadata": {},
   "source": [
    "#### Setting Oscilloscope parameters"
   ]
  },
  {
   "cell_type": "code",
   "execution_count": 8,
   "id": "ee8e3d4e-e074-4ffe-84cb-759027efbd78",
   "metadata": {},
   "outputs": [],
   "source": [
    "ds1054.write(':TIM:MAIN:SCAL 0.0002')\n",
    "ds1054.write(':CHAN1:SCAL 0.5')\n",
    "time.sleep(5)"
   ]
  },
  {
   "cell_type": "code",
   "execution_count": 9,
   "id": "e445bdff-54b4-4072-bffe-ec82cfdc33b3",
   "metadata": {},
   "outputs": [
    {
     "name": "stdout",
     "output_type": "stream",
     "text": [
      "3.04\n"
     ]
    }
   ],
   "source": [
    "Mvpp1 = float(ds1054.query(':MEAS:ITEM? VPP, CHAN1'))\n",
    "print(Mvpp1)"
   ]
  },
  {
   "cell_type": "code",
   "execution_count": 10,
   "id": "bcc559ac-a173-420e-83e2-032863e73ac8",
   "metadata": {},
   "outputs": [
    {
     "name": "stdout",
     "output_type": "stream",
     "text": [
      "Connect resistor to output of signal generator\n"
     ]
    },
    {
     "name": "stdout",
     "output_type": "stream",
     "text": [
      "Press enter to continue.. \n"
     ]
    },
    {
     "data": {
      "text/plain": [
       "''"
      ]
     },
     "execution_count": 10,
     "metadata": {},
     "output_type": "execute_result"
    }
   ],
   "source": [
    "print('Connect resistor to output of signal generator')\n",
    "input(\"Press enter to continue..\")"
   ]
  },
  {
   "cell_type": "code",
   "execution_count": 11,
   "id": "5331ce2d-fcc5-4db1-b3b9-bd2af93ebcf9",
   "metadata": {},
   "outputs": [
    {
     "name": "stdout",
     "output_type": "stream",
     "text": [
      "2.38\n"
     ]
    }
   ],
   "source": [
    "Mvpp2 = float(ds1054.query(':MEAS:ITEM? VPP, CHAN1'))\n",
    "print(Mvpp2)"
   ]
  },
  {
   "cell_type": "code",
   "execution_count": 12,
   "id": "cf87a18f-6074-421e-ad2e-c77fe9cc51c6",
   "metadata": {},
   "outputs": [
    {
     "name": "stdout",
     "output_type": "stream",
     "text": [
      "49.31126967226893\n"
     ]
    }
   ],
   "source": [
    "OutImp = float(resistance*((Mvpp1/Mvpp2)-1))\n",
    "print (OutImp)"
   ]
  },
  {
   "cell_type": "markdown",
   "id": "2dd0a0e1-58dd-419a-b832-ce75a613d436",
   "metadata": {},
   "source": [
    "#### Remove the resister from the funtion generator and connect an inductor"
   ]
  },
  {
   "cell_type": "code",
   "execution_count": 13,
   "id": "4e794759-22e4-4a74-b918-4f2f40e94cd0",
   "metadata": {},
   "outputs": [
    {
     "name": "stdout",
     "output_type": "stream",
     "text": [
      "Press enter to continue... \n"
     ]
    },
    {
     "data": {
      "text/plain": [
       "''"
      ]
     },
     "execution_count": 13,
     "metadata": {},
     "output_type": "execute_result"
    }
   ],
   "source": [
    "input(\"Press enter to continue...\")"
   ]
  },
  {
   "cell_type": "code",
   "execution_count": 14,
   "id": "aa55ec67-aca4-48fc-8003-e376743e0552",
   "metadata": {},
   "outputs": [
    {
     "data": {
      "text/plain": [
       "25"
      ]
     },
     "execution_count": 14,
     "metadata": {},
     "output_type": "execute_result"
    }
   ],
   "source": [
    "Freq = 20000\n",
    "dg1022.write (':SOUR1:APPL:SIN '+str(Freq)+',3,0')\n",
    "time.sleep(5)\n",
    "ds1054.write(':TIM:MAIN:SCAL 0.000005')"
   ]
  },
  {
   "cell_type": "code",
   "execution_count": 15,
   "id": "04599d9d-699c-43a6-acc8-d931b8e2cce4",
   "metadata": {},
   "outputs": [
    {
     "name": "stdout",
     "output_type": "stream",
     "text": [
      "0.42\n"
     ]
    }
   ],
   "source": [
    "Mvpp3 = float(ds1054.query(':MEAS:ITEM? VPP, CHAN1'))\n",
    "print(Mvpp3)"
   ]
  },
  {
   "cell_type": "code",
   "execution_count": 16,
   "id": "21cddbd5-bfe2-42d2-8dad-8dc51f1af0dc",
   "metadata": {},
   "outputs": [],
   "source": [
    "if Mvpp3 > 0.5*Mvpp1:\n",
    "    step = 500\n",
    "    while Mvpp3 >= 0.5*Mvpp1:\n",
    "        Freq -= step\n",
    "        dg1022.write(':SOUR1:APPL:SiN '+str(Freq)+',3,0')\n",
    "        time.sleep(1)\n",
    "        Mvpp3 = float(ds1054.query(':MEAS:ITEM? VPP,CHAN1'))\n",
    "else:\n",
    "    while Mvpp3 <= 0.5*Mvpp1:\n",
    "        step = ((0.5*Mvpp1)-Mvpp3)*10000\n",
    "        Freq += step\n",
    "        dg1022.write(':SOUR1:APPL:SiN '+str(Freq)+',3,0')\n",
    "        time.sleep(1)\n",
    "        Mvpp3 = float(ds1054.query(':MEAS:ITEM? VPP,CHAN1'))"
   ]
  },
  {
   "cell_type": "code",
   "execution_count": 17,
   "id": "6b3b02a4-7c39-4678-9321-1943df38d9cd",
   "metadata": {},
   "outputs": [
    {
     "name": "stdout",
     "output_type": "stream",
     "text": [
      "47.8uH\n"
     ]
    }
   ],
   "source": [
    "f = dg1022.query(':SOUR1:FREQ?')\n",
    "Ind = (1e6*(math.sqrt(1/3)*(OutImp/(2*math.pi * float(f)))))\n",
    "print(\"%.3g\" %Ind+\"uH\")"
   ]
  },
  {
   "cell_type": "code",
   "execution_count": null,
   "id": "601899c9-c383-4c63-9ec3-d015daffb444",
   "metadata": {},
   "outputs": [],
   "source": []
  }
 ],
 "metadata": {
  "kernelspec": {
   "display_name": "Python 3 (ipykernel)",
   "language": "python",
   "name": "python3"
  },
  "language_info": {
   "codemirror_mode": {
    "name": "ipython",
    "version": 3
   },
   "file_extension": ".py",
   "mimetype": "text/x-python",
   "name": "python",
   "nbconvert_exporter": "python",
   "pygments_lexer": "ipython3",
   "version": "3.12.0"
  }
 },
 "nbformat": 4,
 "nbformat_minor": 5
}
